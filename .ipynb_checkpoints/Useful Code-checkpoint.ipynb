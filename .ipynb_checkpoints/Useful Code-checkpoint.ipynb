{
 "cells": [
  {
   "cell_type": "code",
   "execution_count": 1,
   "metadata": {},
   "outputs": [
    {
     "ename": "NameError",
     "evalue": "name 'df' is not defined",
     "output_type": "error",
     "traceback": [
      "\u001b[1;31m---------------------------------------------------------------------------\u001b[0m",
      "\u001b[1;31mNameError\u001b[0m                                 Traceback (most recent call last)",
      "\u001b[1;32m<ipython-input-1-c896ea8c791d>\u001b[0m in \u001b[0;36m<module>\u001b[1;34m\u001b[0m\n\u001b[0;32m     17\u001b[0m \u001b[1;33m\u001b[0m\u001b[0m\n\u001b[0;32m     18\u001b[0m         \u001b[0mplt\u001b[0m\u001b[1;33m.\u001b[0m\u001b[0mtight_layout\u001b[0m\u001b[1;33m(\u001b[0m\u001b[1;33m)\u001b[0m\u001b[1;33m\u001b[0m\u001b[1;33m\u001b[0m\u001b[0m\n\u001b[1;32m---> 19\u001b[1;33m \u001b[0msrt_box\u001b[0m\u001b[1;33m(\u001b[0m\u001b[1;34m'ValueColumn'\u001b[0m\u001b[1;33m,\u001b[0m\u001b[0mdf\u001b[0m\u001b[1;33m)\u001b[0m\u001b[1;33m\u001b[0m\u001b[1;33m\u001b[0m\u001b[0m\n\u001b[0m",
      "\u001b[1;31mNameError\u001b[0m: name 'df' is not defined"
     ]
    }
   ],
   "source": [
    "from matplotlib.ticker import MaxNLocator\n",
    "def srt_box(y, df):\n",
    "    fig, axes = plt.subplots(14, 3, figsize=(25, 80))\n",
    "    axes = axes.flatten()\n",
    "\n",
    "    for i, j in zip(df.select_dtypes(include=['object']).columns, axes):\n",
    "\n",
    "        sortd = df.groupby([i])[y].median().sort_values(ascending=False)\n",
    "        sns.boxplot(x=i,\n",
    "                    y=y,\n",
    "                    data=df,\n",
    "                    palette='plasma',\n",
    "                    order=sortd.index,\n",
    "                    ax=j)\n",
    "        j.tick_params(labelrotation=45)\n",
    "        j.yaxis.set_major_locator(MaxNLocator(nbins=18))\n",
    "\n",
    "        plt.tight_layout()\n",
    "srt_box('ValueColumn',df)"
   ]
  },
  {
   "cell_type": "code",
   "execution_count": null,
   "metadata": {},
   "outputs": [],
   "source": [
    "#Rare Values\n",
    "rare_values = [\n",
    "    'Val1', 'Val2'\n",
    "]\n",
    "\n",
    "for col in rare_values:\n",
    "    mask = total_data[col].isin(total_data[col].value_counts()[total_data[col].value_counts() < 10].index)\n",
    "    total_data[col][mask] = 'Rare_value'    \n",
    "    "
   ]
  }
 ],
 "metadata": {
  "kernelspec": {
   "display_name": "Python 3",
   "language": "python",
   "name": "python3"
  },
  "language_info": {
   "codemirror_mode": {
    "name": "ipython",
    "version": 3
   },
   "file_extension": ".py",
   "mimetype": "text/x-python",
   "name": "python",
   "nbconvert_exporter": "python",
   "pygments_lexer": "ipython3",
   "version": "3.7.7"
  }
 },
 "nbformat": 4,
 "nbformat_minor": 4
}
