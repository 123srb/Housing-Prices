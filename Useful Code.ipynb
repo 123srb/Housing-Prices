{
 "cells": [
  {
   "cell_type": "code",
   "execution_count": null,
   "metadata": {},
   "outputs": [],
   "source": [
    "from matplotlib.ticker import MaxNLocator\n",
    "def srt_box(y, df):\n",
    "    fig, axes = plt.subplots(14, 3, figsize=(25, 80))\n",
    "    axes = axes.flatten()\n",
    "\n",
    "    for i, j in zip(df.select_dtypes(include=['object']).columns, axes):\n",
    "\n",
    "        sortd = df.groupby([i])[y].median().sort_values(ascending=False)\n",
    "        sns.boxplot(x=i,\n",
    "                    y=y,\n",
    "                    data=df,\n",
    "                    palette='plasma',\n",
    "                    order=sortd.index,\n",
    "                    ax=j)\n",
    "        j.tick_params(labelrotation=45)\n",
    "        j.yaxis.set_major_locator(MaxNLocator(nbins=18))\n",
    "\n",
    "        plt.tight_layout()\n",
    "srt_box('ValueColumn',df)"
   ]
  }
 ],
 "metadata": {
  "kernelspec": {
   "display_name": "Python 3",
   "language": "python",
   "name": "python3"
  },
  "language_info": {
   "codemirror_mode": {
    "name": "ipython",
    "version": 3
   },
   "file_extension": ".py",
   "mimetype": "text/x-python",
   "name": "python",
   "nbconvert_exporter": "python",
   "pygments_lexer": "ipython3",
   "version": "3.7.7"
  }
 },
 "nbformat": 4,
 "nbformat_minor": 4
}
